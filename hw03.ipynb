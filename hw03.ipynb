{
 "cells": [
  {
   "cell_type": "markdown",
   "metadata": {},
   "source": [
    "# ST 447 - Exercise 3"
   ]
  },
  {
   "cell_type": "markdown",
   "metadata": {},
   "source": [
    "## Question 1\n",
    "\n",
    "### Part a\n",
    "#### Maximum Likelihood Estimator\n",
    "$$p(y; \\theta) = \\theta^y \\exp(-\\theta) / y! \\Rightarrow \\log p(y; \\theta) = y \\log \\theta - \\theta - \\log(y!)$$\n",
    "$$\\log \\mathcal{L}(\\theta; Y_i) = \\Sigma [Y_i \\log \\theta - \\theta - \\log(Y_i!)] = -n\\theta + (\\Sigma Y_i) \\log \\theta + \\text{Const.}$$\n",
    "$$(\\partial/\\partial \\theta) \\log \\mathcal{L}(\\theta; Y_i) = -n + \\Sigma Y_i / \\theta = 0 \\Rightarrow \\theta = \\Sigma Y_i/n = \\bar{Y}_n$$\n",
    "$$(\\partial/\\partial \\theta)^2  \\log \\mathcal{L}(\\theta; Y_i) = -\\Sigma Y_i / \\theta^2 < 0 \\text{ so } \\boxed{\\hat{\\theta}_\\text{MLE} = \\bar{Y}_n}$$\n",
    "\n",
    "$$\\mathbb{V} \\hat{\\theta}_\\text{MLE} = \\mathbb{E} \\hat{\\theta}_\\text{MLE}^2 - (\\mathbb{E}\\hat{\\theta}_\\text{MLE})^2 = \\mathbb{E} \\hat{\\theta}_\\text{MLE}^2 - \\theta^2$$\n",
    "$$\\mathbb{E} \\hat{\\theta}_\\text{MLE}^2 = \\mathbb{E}(\\Sigma Y_i/n)^2 = \\Sigma \\mathbb{E} Y_i Y_j / n^2$$\n",
    "$$\\mathbb{E} Y_i Y_j = \\begin{cases}\n",
    "    \\mathbb{E} Y_i^2 = \\mu_2 & i = j \\\\\n",
    "    (\\mathbb{E} Y_i)^2 = \\mu_1^2 & i \\neq j\n",
    "\\end{cases} = n \\mathbb{E} Y_i^2 + (n^2 - n)(\\mathbb{E} Y_i)^2$$\n",
    "$$\\mathbb{V} \\hat{\\theta}_\\text{MLE} = (n \\mathbb{E} Y_i^2 + (n^2 - n)(\\mathbb{E} Y_i)^2) / n^2 - \\theta^2 \\Rightarrow \\text{SE}(\\hat{\\theta}_\\text{MLE})^2 = \\Sigma Y_i^2 / n^2 - (\\Sigma Y_i / n)^2 / n$$\n",
    "$$\\boxed{\\text{SE}(\\hat{\\theta}_\\text{MLE}) = n^{-1/2}[\\bar{Y_n^2} - (\\bar{Y}_n)^2]^{1/2}}$$\n",
    "\n",
    "#### Method of Moments Estimator\n",
    "$$\\theta = \\mu_1 \\overset{\\text{MME}}{=} M_1 = \\Sigma Y_i/n = \\bar{Y}_n \\Rightarrow \\boxed{\\hat{\\theta}_\\text{MME} = \\bar{Y}_n}$$\n",
    "\n",
    "$$\\hat{\\theta}_\\text{MME} = \\bar{Y}_n = \\hat{\\theta}_\\text{MLE} \\Rightarrow \\text{SE}(\\hat{\\theta}_\\text{MME}) = \\text{SE}(\\hat{\\theta}_\\text{MLE}) = \\boxed{n^{-1/2}[\\bar{Y_n^2} - (\\bar{Y}_n)^2]^{1/2}}$$\n",
    "\n",
    "### Part b\n",
    "$$\\log \\mathcal{L}(\\theta; Y_1 \\ldots, Y_m, \\Sigma_{i>m} Y_i = Z) = \\\\Sigma_{i \\leq m} \\log p(Y_i; \\theta) + \\log p(Z; \\theta)$$\n",
    "Since $Z \\sim \\text{Poisson}(\\theta(n-m))$ $$\\log p(Z; \\theta) = Z\\log\\theta + Z\\log(n-m) - \\theta(n-m) - \\log(Z!)$$\n",
    "$$\\log \\mathcal{L}(\\theta) = (\\Sigma_{i \\leq m} Y_i) \\log \\theta - m\\theta + Z \\log \\theta - \\theta(n-m) + \\text{Const.} = -n\\theta + (Z + \\Sigma_{i \\leq m} Y_i)\\log\\theta$$\n",
    "$$(\\partial/\\partial \\theta) \\mathcal{L}(\\theta) = -n + (Z + \\Sigma_{i \\leq m} Y_i)/\\theta = 0 \\Rightarrow \\boxed{\\hat{\\theta}_\\text{MLE} = (Z + \\Sigma_{i \\leq m} Y_i)/n}$$\n",
    "$$(\\partial/\\partial \\theta)^2 \\mathcal{L}(\\theta) = -(Z + \\Sigma_{i \\leq m} Y_i)/\\theta^2 < 0$$"
   ]
  },
  {
   "cell_type": "markdown",
   "metadata": {},
   "source": [
    "## Question 2\n",
    "$$f(x; \\lambda) = \\exp(-\\lambda x) x^{r-1} \\lambda^r / \\Gamma(r) \\Rightarrow \\log f(x; \\lambda) = -\\lambda x + (r-1) \\log x + r \\log \\lambda - \\log \\Gamma(r) \\Rightarrow \\log \\mathcal{L}(\\lambda; x_i) = -\\lambda \\Sigma x_i + nr \\log \\lambda + \\text{Const.}$$\n",
    "$$(\\partial/\\partial \\lambda) \\log \\mathcal{L}(\\lambda) = -\\Sigma x_i + nr/\\lambda = 0 \\Rightarrow \\boxed{\\hat{\\lambda}_\\text{MLE} = r/\\bar{x}_n}$$"
   ]
  },
  {
   "cell_type": "markdown",
   "metadata": {},
   "source": [
    "## Question 3\n",
    "$$f(y; \\theta) = \\begin{cases}\n",
    "    2y / \\theta^2 & y \\leq \\theta \\\\\n",
    "    0 & \\text{otherwise}\n",
    "\\end{cases} \\Rightarrow \\log f(y; \\theta) = \\begin{cases}\n",
    "    \\log(2y) - 2 \\log \\theta & y \\leq \\theta \\\\\n",
    "    -\\infty & \\text{otherwise}\n",
    "\\end{cases} \\Rightarrow \\log \\mathcal{L}(\\theta; y_i) = \\text{Const.} + \\begin{cases}\n",
    "    -2n \\log \\theta & y_i \\leq \\theta \\: \\forall \\: y_i \\\\\n",
    "    -\\infty & \\text{otherwise}\n",
    "\\end{cases}$$\n",
    "\n",
    "$\\mathcal{L}(\\theta) = -2n \\log \\theta + \\text{Const.}$ is a monotonic decreasing function in $\\theta$, so it is maximised by choosing $\\theta$ as small as possible while satisfying $y_i \\leq \\theta \\: \\forall \\: y_i$. This is done by choosing $\\boxed{\\hat{\\theta}_\\text{MLE} = \\max y_i}$"
   ]
  },
  {
   "cell_type": "markdown",
   "metadata": {},
   "source": [
    "## Question 4\n",
    "\n",
    "### Part a\n",
    "$$f(x; \\theta) = \\begin{cases}\n",
    "    1/\\theta & x \\leq \\theta \\\\\n",
    "    0 & \\text{otherwise}\n",
    "\\end{cases} \\Rightarrow \\log f(x; \\theta) = \\begin{cases}\n",
    "    -\\log \\theta & x \\leq \\theta \\\\\n",
    "    -\\infty & \\text{otherwise}\n",
    "\\end{cases} \\Rightarrow \\log \\mathcal{L}(\\theta; X_i) = \\begin{cases}\n",
    "    -n \\log \\theta & x_i \\leq \\theta \\: \\forall \\: x_i \\\\\n",
    "    -\\infty & \\text{otherwise}\n",
    "\\end{cases}$$\n",
    "$\\mathcal{L}(\\theta) = -n \\log \\theta$ is a monotonic decreasing function in $\\theta$, so it is maximised by choosing $\\theta$ small while satisfying the conditions, so $\\boxed{\\hat{\\theta} = \\max X_i}$\n",
    "$$\\mathbb{P}[\\max X_i \\leq y] = \\Pi \\mathbb{P}[X_i \\leq y] = \\Pi y/\\theta = (y/\\theta)^n\\text{. The cumulative distribution function for } \\hat{\\theta} \\text{ is } \\boxed{F(y) = (y/\\theta)^n} \\text{ for } 0 \\leq y \\leq \\theta$$\n",
    "\n",
    "### Part b\n",
    "$$\\text{Always } \\hat{\\theta} \\leq \\theta \\leq \\theta + \\varepsilon \\text{ so } \\mathbb{P}[\\theta - \\varepsilon \\leq \\hat{\\theta} \\leq \\theta + \\varepsilon] = \\mathbb{P}[\\theta - \\varepsilon \\leq \\hat{\\theta}] = 1 - F(\\theta - \\varepsilon) = 1 - (1 - \\varepsilon/\\theta)^n \\to 1 \\text{ as } n \\to \\infty$$\n",
    "\n",
    "### Part c\n",
    "$$\\text{Let } Y = n(\\hat{\\theta} - \\theta) \\text{ then } \\mathbb{P}[Y \\leq y] = \\mathbb{P}[\\hat{\\theta} \\leq y/n + \\theta] = F(y/n + \\theta) = (y/n\\theta + 1)^n$$\n",
    "$$F_Y(y) = (1 + y/n\\theta)^n \\to e^{y/\\theta} \\text{ as } n \\to \\infty$$"
   ]
  },
  {
   "cell_type": "markdown",
   "metadata": {},
   "source": [
    "## Question 5\n",
    "\n",
    "### Part a"
   ]
  },
  {
   "cell_type": "markdown",
   "metadata": {},
   "source": [
    "$$f(y_i; \\theta, x_i) = (\\theta + x_i)^y_i \\exp(-\\theta - x_i) / y_i!$$\n",
    "$$\\log f(y_i; \\theta, x_i) = y_i \\log(\\theta + x_i) - \\theta - x_i - \\log(y_i!)$$\n",
    "$$\\log \\mathcal{L}(\\theta; x_i, y_i) = \\Sigma y_i \\log(\\theta + x_i) - n\\theta - \\Sigma x_i - \\Sigma \\log(y_i!)$$\n",
    "$$(\\partial/\\partial \\theta) \\log \\mathcal{L}(\\theta) = \\Sigma y_i / (\\theta + x_i) - n$$\n",
    "$$(\\partial/\\partial \\theta)^2 \\log \\mathcal{L}(\\theta) = -\\Sigma y_i / (\\theta + x_i)^2$$"
   ]
  },
  {
   "cell_type": "code",
   "execution_count": 27,
   "metadata": {
    "vscode": {
     "languageId": "r"
    }
   },
   "outputs": [],
   "source": [
    "data <- read.table(\"data/InsuranceClaims.txt\", skip = 4, header = 1, sep = \" \")"
   ]
  },
  {
   "cell_type": "code",
   "execution_count": 56,
   "metadata": {
    "vscode": {
     "languageId": "r"
    }
   },
   "outputs": [
    {
     "name": "stdout",
     "output_type": "stream",
     "text": [
      "[1] -0.5853815\n",
      "[1] -0.2879026\n",
      "[1] -0.04098499\n",
      "[1] -0.0006596911\n",
      "[1] -1.65504e-07\n",
      "[1] -1.040939e-14\n",
      "[1] 0\n"
     ]
    },
    {
     "data": {
      "text/html": [
       "0.914928939923042"
      ],
      "text/latex": [
       "0.914928939923042"
      ],
      "text/markdown": [
       "0.914928939923042"
      ],
      "text/plain": [
       "[1] 0.9149289"
      ]
     },
     "metadata": {},
     "output_type": "display_data"
    }
   ],
   "source": [
    "s <- function(theta, x, y) { sum(y/(theta + x)) - dim(data)[1] }\n",
    "s_prime <- function(theta, x, y) { -sum(y/(theta + x)^2) }\n",
    "\n",
    "x <- data$X\n",
    "y <- data$Y\n",
    "\n",
    "tiny <- 10^(-20)\n",
    "theta <- 0\n",
    "while (TRUE) {\n",
    "    old_theta <- theta\n",
    "    print(s(theta, x, y) / s_prime(theta, x, y))\n",
    "    theta <- theta - s(theta, x, y) / s_prime(theta, x, y)\n",
    "\n",
    "    if (abs(theta - old_theta) < tiny) {\n",
    "        break\n",
    "    }\n",
    "}\n",
    "\n",
    "theta\n"
   ]
  },
  {
   "cell_type": "markdown",
   "metadata": {},
   "source": [
    "### Part b"
   ]
  },
  {
   "cell_type": "markdown",
   "metadata": {},
   "source": [
    "$$f(y_i; \\theta, \\beta, x_i) = (\\theta + \\beta x_i)^y_i \\exp(-\\theta - \\beta x_i) / y_i!$$\n",
    "$$\\log f(y_i; \\theta, \\beta, x_i) = y_i \\log(\\theta + \\beta x_i) - \\theta - \\beta x_i - \\log(y_i!)$$\n",
    "$$\\log \\mathcal{L}(\\theta, \\beta; x_i, y_i) = \\Sigma y_i \\log(\\theta + \\beta x_i) - n\\theta - \\beta \\Sigma x_i - \\Sigma \\log(y_i!)$$\n",
    "$$(\\partial/\\partial \\theta) \\log \\mathcal{L}(\\theta, \\beta) = \\Sigma y_i / (\\theta + \\beta x_i) - n$$\n",
    "$$(\\partial/\\partial \\beta) \\log \\mathcal{L}(\\theta, \\beta) = \\Sigma x_i y_i / (\\theta + \\beta x_i) - \\Sigma x_i$$\n",
    "$$(\\partial/\\partial \\theta)^2 \\log \\mathcal{L}(\\theta, \\beta) = -\\Sigma y_i / (\\theta + \\beta x_i)^2$$\n",
    "$$(\\partial/\\partial \\beta)^2 \\log \\mathcal{L}(\\theta, \\beta) = -\\Sigma x_i^2 y_i / (\\theta + \\beta x_i)^2$$\n",
    "$$(\\partial^2/\\partial \\theta \\beta) \\log \\mathcal{L}(\\theta, \\beta) = -\\Sigma x_i y_i / (\\theta + \\beta x_i)^2 = (\\partial^2/\\partial \\beta \\theta) \\log \\mathcal{L}(\\theta, \\beta)$$\n",
    "$$\\dot{s}(\\theta, \\beta) = -\\begin{bmatrix}\n",
    "    \\Sigma y_i / (\\theta + \\beta x_i)^2 & \\Sigma x_i y_i / (\\theta + \\beta x_i)^2 \\\\\n",
    "    \\Sigma x_i y_i / (\\theta + \\beta x_i)^2 & \\Sigma x_i^2 y_i / (\\theta + \\beta x_i)^2\n",
    "\\end{bmatrix}$$"
   ]
  },
  {
   "cell_type": "code",
   "execution_count": 62,
   "metadata": {
    "vscode": {
     "languageId": "r"
    }
   },
   "outputs": [
    {
     "data": {
      "text/html": [
       "1.32700076539691"
      ],
      "text/latex": [
       "1.32700076539691"
      ],
      "text/markdown": [
       "1.32700076539691"
      ],
      "text/plain": [
       "[1] 1.327001"
      ]
     },
     "metadata": {},
     "output_type": "display_data"
    },
    {
     "data": {
      "text/html": [
       "0.773242705815457"
      ],
      "text/latex": [
       "0.773242705815457"
      ],
      "text/markdown": [
       "0.773242705815457"
      ],
      "text/plain": [
       "[1] 0.7732427"
      ]
     },
     "metadata": {},
     "output_type": "display_data"
    }
   ],
   "source": [
    "s <- function(theta, beta, x, y) {\n",
    "    matrix(\n",
    "        c(\n",
    "            sum(y/(theta + beta*x)) - dim(data)[1],\n",
    "            sum(x*y/(theta + beta*x)) - sum(x)\n",
    "        ),\n",
    "        nrow = 2,\n",
    "        ncol = 1\n",
    "    )\n",
    "}\n",
    "s_prime <- function(theta, beta, x, y) {\n",
    "    matrix(\n",
    "        -c(\n",
    "            sum(y/(theta + beta*x)^2),\n",
    "            sum(x*y/(theta + beta*x)^2),\n",
    "            sum(x*y/(theta + beta*x)^2),\n",
    "            sum(x^2*y/(theta + beta*x)^2)\n",
    "        ),\n",
    "        nrow = 2,\n",
    "        ncol = 2\n",
    "    )\n",
    "}\n",
    "\n",
    "x <- data$X\n",
    "y <- data$Y\n",
    "\n",
    "tiny <- 10^(-20)\n",
    "theta <- 0\n",
    "beta <- 1\n",
    "while (TRUE) {\n",
    "    old_theta <- theta\n",
    "    old_beta <- beta\n",
    "    update <- solve(s_prime(theta, beta, x, y), s(theta, beta, x, y))\n",
    "    theta <- theta - update[1]\n",
    "    beta <- beta - update[2]\n",
    "\n",
    "    if (abs(theta - old_theta) < tiny && abs(beta - old_beta) < tiny) {\n",
    "        break\n",
    "    }\n",
    "}\n",
    "\n",
    "theta\n",
    "beta"
   ]
  },
  {
   "cell_type": "markdown",
   "metadata": {},
   "source": []
  }
 ],
 "metadata": {
  "kernelspec": {
   "display_name": "R",
   "language": "R",
   "name": "ir"
  },
  "language_info": {
   "codemirror_mode": "r",
   "file_extension": ".r",
   "mimetype": "text/x-r-source",
   "name": "R",
   "pygments_lexer": "r",
   "version": "4.2.1"
  },
  "orig_nbformat": 4,
  "vscode": {
   "interpreter": {
    "hash": "7e1998ff7f8aa20ada591c520b972326324e5ea05489af9e422744c7c09f6dad"
   }
  }
 },
 "nbformat": 4,
 "nbformat_minor": 2
}
